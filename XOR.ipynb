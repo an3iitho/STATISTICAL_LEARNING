{
 "cells": [
  {
   "cell_type": "markdown",
   "metadata": {},
   "source": [
    "## XOR como composicion\n",
    "### Álvaro Andres Esquivel Gómez 11002822"
   ]
  },
  {
   "cell_type": "code",
   "execution_count": 1,
   "metadata": {},
   "outputs": [],
   "source": [
    "import numpy as np"
   ]
  },
  {
   "cell_type": "code",
   "execution_count": 3,
   "metadata": {},
   "outputs": [
    {
     "data": {
      "text/plain": [
       "0"
      ]
     },
     "execution_count": 3,
     "metadata": {},
     "output_type": "execute_result"
    }
   ],
   "source": [
    "def operacion_not(x1):\n",
    "    parametros = [-1, 1]\n",
    "    \n",
    "    return int(x1 * parametros[0] + parametros[1])\n",
    "\n",
    "test = 1\n",
    "\n",
    "operacion_not(test)"
   ]
  },
  {
   "cell_type": "code",
   "execution_count": 7,
   "metadata": {},
   "outputs": [
    {
     "data": {
      "text/plain": [
       "0"
      ]
     },
     "execution_count": 7,
     "metadata": {},
     "output_type": "execute_result"
    }
   ],
   "source": [
    "def operacion_or(x1, x2):\n",
    "    parametros = [1, 1, 0]\n",
    "    \n",
    "    return int((x1 * parametros[0]) + (x2 * parametros[1]) + parametros[2] > 0)\n",
    "\n",
    "testx1 = 0\n",
    "testx2 = 0\n",
    "\n",
    "operacion_or(testx1, testx2)"
   ]
  },
  {
   "cell_type": "code",
   "execution_count": 12,
   "metadata": {},
   "outputs": [
    {
     "data": {
      "text/plain": [
       "1"
      ]
     },
     "execution_count": 12,
     "metadata": {},
     "output_type": "execute_result"
    }
   ],
   "source": [
    "def operacion_and(x1, x2):\n",
    "    parametros = [1, 1, -1]\n",
    "    \n",
    "    return int((x1 * parametros[0]) + (x2 * parametros[1]) + parametros[2] > 0)\n",
    "\n",
    "testx1 = 1\n",
    "testx2 = 1\n",
    "\n",
    "operacion_and(testx1, testx2)"
   ]
  },
  {
   "cell_type": "code",
   "execution_count": 17,
   "metadata": {},
   "outputs": [
    {
     "data": {
      "text/plain": [
       "1"
      ]
     },
     "execution_count": 17,
     "metadata": {},
     "output_type": "execute_result"
    }
   ],
   "source": [
    "def operacion_xor(x1, x2):\n",
    "    temp_and = operacion_and(x1, x2)\n",
    "    temp_or = operacion_or(x1, x2)\n",
    "    \n",
    "    nand_temp = operacion_not(temp_and)\n",
    "    \n",
    "    temp_resultado = operacion_and(nand_temp, temp_or)\n",
    "    \n",
    "    return temp_resultado\n",
    "\n",
    "testx1 = 0\n",
    "testx2 = 1\n",
    "\n",
    "operacion_xor(testx1, testx2)"
   ]
  },
  {
   "cell_type": "markdown",
   "metadata": {},
   "source": [
    "## Utilizando perceptrones entrenados."
   ]
  },
  {
   "cell_type": "code",
   "execution_count": 13,
   "metadata": {},
   "outputs": [
    {
     "name": "stdout",
     "output_type": "stream",
     "text": [
      "[-1  1  1  3]\n",
      "[0.26894142 0.73105858 0.73105858 0.95257413]\n"
     ]
    },
    {
     "data": {
      "text/plain": [
       "array([0., 1., 1., 1.])"
      ]
     },
     "execution_count": 13,
     "metadata": {},
     "output_type": "execute_result"
    }
   ],
   "source": [
    "def op_or(val1, val2):\n",
    "    #Operacion con valores entrenados\n",
    "    resultado = (val1 * 2) + (val2 * 2) - 1\n",
    "    print(resultado)\n",
    "    #Operacion sigmoid\n",
    "    sigmoid = 1/(1 + np.exp(-resultado))\n",
    "    print(sigmoid)\n",
    "    return np.round(sigmoid, 0)\n",
    "\n",
    "v1 = np.array([0, 0, 1, 1])\n",
    "v2 = np.array([0, 1, 0, 1])\n",
    "# Resultado esperado 0 1 1 1\n",
    "\n",
    "op_or(v1, v2)"
   ]
  },
  {
   "cell_type": "code",
   "execution_count": 19,
   "metadata": {},
   "outputs": [
    {
     "name": "stdout",
     "output_type": "stream",
     "text": [
      "[-3 -1 -1  1]\n",
      "[0.04742587 0.26894142 0.26894142 0.73105858]\n"
     ]
    },
    {
     "data": {
      "text/plain": [
       "array([0., 0., 0., 1.])"
      ]
     },
     "execution_count": 19,
     "metadata": {},
     "output_type": "execute_result"
    }
   ],
   "source": [
    "def op_and(val1, val2):\n",
    "    #Operacion con valores entrenados\n",
    "    resultado = (val1 * 2) + (val2 * 2) - 3\n",
    "    print(resultado)\n",
    "    #Operacion sigmoid\n",
    "    sigmoid = 1/(1 + np.exp(-resultado))\n",
    "    print(sigmoid)\n",
    "    return np.round(sigmoid, 0)\n",
    "\n",
    "v1 = np.array([0, 0, 1, 1])\n",
    "v2 = np.array([0, 1, 0, 1])\n",
    "# Resultado esperado 0 0 0 1\n",
    "\n",
    "op_and(v1, v2)"
   ]
  }
 ],
 "metadata": {
  "kernelspec": {
   "display_name": "Python 3",
   "language": "python",
   "name": "python3"
  },
  "language_info": {
   "codemirror_mode": {
    "name": "ipython",
    "version": 3
   },
   "file_extension": ".py",
   "mimetype": "text/x-python",
   "name": "python",
   "nbconvert_exporter": "python",
   "pygments_lexer": "ipython3",
   "version": "3.7.7"
  }
 },
 "nbformat": 4,
 "nbformat_minor": 4
}
