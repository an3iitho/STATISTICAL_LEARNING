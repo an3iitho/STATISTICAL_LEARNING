{
 "cells": [
  {
   "cell_type": "code",
   "execution_count": 73,
   "metadata": {},
   "outputs": [],
   "source": [
    "%matplotlib inline\n",
    "\n",
    "import numpy as np\n",
    "import matplotlib.pyplot as plt"
   ]
  },
  {
   "cell_type": "code",
   "execution_count": 5,
   "metadata": {},
   "outputs": [],
   "source": [
    "#Funcion de activacion sigmoid\n",
    "\n",
    "def sigmoid(X):\n",
    "    return 1/(1+np.exp(-X))"
   ]
  },
  {
   "cell_type": "markdown",
   "metadata": {},
   "source": [
    "![title](img/MLP1.jpg)"
   ]
  },
  {
   "cell_type": "code",
   "execution_count": 40,
   "metadata": {},
   "outputs": [],
   "source": [
    "def red_neuronal_1(x1, x2):\n",
    "    \n",
    "    #Pesos de la primera capa a la segunda\n",
    "    W1to2 = np.array([\n",
    "      [5, -2, -8], #Neurona 1 capa 2 \n",
    "      [7, -3, 1] #Neurona 2 capa 2 \n",
    "    ])\n",
    "    print(\"Pesos capa 2\\n\", W1to2, W1to2.shape)\n",
    "    print(\"Pesos capa 2T\\n\", W1to2.T, W1to2.T.shape)\n",
    "    \n",
    "    # Valores de entreada X: 1 observacion, 2 variables y sesgo de 1\n",
    "    X = np.array([[x1, x2, 1]])\n",
    "    print(\"Valores de entrada\\n\", X, X.shape)\n",
    "    \n",
    "    #Valores de la segunda capa\n",
    "    H = np.matmul(X, W1to2.T)\n",
    "    print(\"Valores capa2\\n\", H, H.shape)\n",
    "    \n",
    "    #Valores con funcion de activacion para la segunda capa\n",
    "    A = sigmoid(H)\n",
    "    print(\"Valores activacion capa2\\n\", A, A.shape)\n",
    "    \n",
    "    #Agregando sesgo capa 2\n",
    "    A = np.append(A, [[1]], axis = 1)\n",
    "    print(\"Agregando sesgo para capa 2\\n\", A, A.shape)\n",
    "    \n",
    "    #Pesos de la segunda capa a la tercera\n",
    "    W2to3 = np.array([[7, 5, -6]])\n",
    "    print(\"Pesos capa 3\\n\", W2to3, W2to3.shape)\n",
    "    print(\"Pesos capa 3T\\n\", W2to3.T, W2to3.T.shape)\n",
    "    \n",
    "    H2 = np.matmul(A, W2to3.T)\n",
    "    print(\"Valores capa 3\\n\", H2, H2.shape)\n",
    "    \n",
    "    y_hat = sigmoid(H2)\n",
    "    print(\"Valores activacion capa2\\n\", y_hat, y_hat.shape)\n",
    "    \n",
    "    return y_hat\n"
   ]
  },
  {
   "cell_type": "code",
   "execution_count": 41,
   "metadata": {},
   "outputs": [
    {
     "name": "stdout",
     "output_type": "stream",
     "text": [
      "Pesos capa 2\n",
      " [[ 5 -2 -8]\n",
      " [ 7 -3  1]] (2, 3)\n",
      "Pesos capa 2T\n",
      " [[ 5  7]\n",
      " [-2 -3]\n",
      " [-8  1]] (3, 2)\n",
      "Valores de entrada\n",
      " [[2 3 1]] (1, 3)\n",
      "Valores capa2\n",
      " [[-4  6]] (1, 2)\n",
      "Valores activacion capa2\n",
      " [[0.01798621 0.99752738]] (1, 2)\n",
      "Agregando sesgo para capa 2\n",
      " [[0.01798621 0.99752738 1.        ]] (1, 3)\n",
      "Pesos capa 3\n",
      " [[ 7  5 -6]] (1, 3)\n",
      "Pesos capa 3T\n",
      " [[ 7]\n",
      " [ 5]\n",
      " [-6]] (3, 1)\n",
      "Valores capa 3\n",
      " [[-0.88645965]] (1, 1)\n",
      "Valores activacion capa2\n",
      " [[0.29184097]] (1, 1)\n",
      "\n",
      "\n",
      "Resultado:  [[0.29184097]]\n"
     ]
    }
   ],
   "source": [
    "resultado = red_neuronal_1(2, 3)\n",
    "print(\"\\n\\nResultado: \", resultado)"
   ]
  },
  {
   "cell_type": "markdown",
   "metadata": {},
   "source": [
    "El valor que mas peso aporta en la capa 2, esta dado por el mayor, en este caso es el modelo 2 con un valor de: 0.99752738 que es significativamente mayor al modelo 1, con un valor de: 0.01798621. Dado por:\n",
    "\n",
    "Valores activacion capa 2:  [[0.01798621 0.99752738]]"
   ]
  },
  {
   "cell_type": "markdown",
   "metadata": {},
   "source": [
    "![title](img/MLP2.jpg)"
   ]
  },
  {
   "cell_type": "code",
   "execution_count": 43,
   "metadata": {},
   "outputs": [],
   "source": [
    "def red_neuronal_2(x1, x2):\n",
    "    \n",
    "    #Pesos de la primera capa a la segunda\n",
    "    W1to2 = np.array([\n",
    "        [0.8, 0.2], #Neurona 1 capa 2 \n",
    "        [0.4, 0.9], #Neurona 2 capa 2 \n",
    "        [0.3, 0.5]  #Neurona 3 capa 2 \n",
    "    ])\n",
    "    print(\"Pesos capa 2\\n\", W1to2, W1to2.shape)\n",
    "    print(\"Pesos capa 2T\\n\", W1to2.T, W1to2.T.shape)\n",
    "    \n",
    "    # Valores de entreada X: 1 observacion, 2 variables y sesgo de 1\n",
    "    X = np.array([[x1, x2]])\n",
    "    print(\"Valores de entrada\\n\", X, X.shape)\n",
    "    \n",
    "    #Valores de la segunda capa\n",
    "    H = np.matmul(X, W1to2.T)\n",
    "    print(\"Valores capa2\\n\", H, H.shape)\n",
    "    \n",
    "    #Valores con funcion de activacion para la segunda capa\n",
    "    A = sigmoid(H)\n",
    "    print(\"Valores activacion capa2\\n\", A, A.shape)\n",
    "    \n",
    "    #Pesos de la segunda capa a la tercera\n",
    "    W2to3 = np.array([[0.3, 0.5, 0.9]])\n",
    "    print(\"Pesos capa 3\\n\", W2to3, W2to3.shape)\n",
    "    print(\"Pesos capa 3T\\n\", W2to3.T, W2to3.T.shape)\n",
    "    \n",
    "    H2 = np.matmul(A, W2to3.T)\n",
    "    print(\"Valores capa 3\\n\", H2, H2.shape)\n",
    "    \n",
    "    y_hat = sigmoid(H2)\n",
    "    print(\"Valores activacion capa2\\n\", y_hat, y_hat.shape)\n",
    "    \n",
    "    return y_hat"
   ]
  },
  {
   "cell_type": "code",
   "execution_count": 44,
   "metadata": {},
   "outputs": [
    {
     "name": "stdout",
     "output_type": "stream",
     "text": [
      "Pesos capa 2\n",
      " [[0.8 0.2]\n",
      " [0.4 0.9]\n",
      " [0.3 0.5]] (3, 2)\n",
      "Pesos capa 2T\n",
      " [[0.8 0.4 0.3]\n",
      " [0.2 0.9 0.5]] (2, 3)\n",
      "Valores de entrada\n",
      " [[1 1]] (1, 2)\n",
      "Valores capa2\n",
      " [[1.  1.3 0.8]] (1, 3)\n",
      "Valores activacion capa2\n",
      " [[0.73105858 0.78583498 0.68997448]] (1, 3)\n",
      "Pesos capa 3\n",
      " [[0.3 0.5 0.9]] (1, 3)\n",
      "Pesos capa 3T\n",
      " [[0.3]\n",
      " [0.5]\n",
      " [0.9]] (3, 1)\n",
      "Valores capa 3\n",
      " [[1.2332121]] (1, 1)\n",
      "Valores activacion capa2\n",
      " [[0.77438027]] (1, 1)\n",
      "\n",
      "\n",
      "Resultado:  [[0.77438027]]\n"
     ]
    }
   ],
   "source": [
    "resultado = red_neuronal_2(1, 1)\n",
    "print(\"\\n\\nResultado: \", resultado)"
   ]
  },
  {
   "cell_type": "markdown",
   "metadata": {},
   "source": [
    "El valor que mas peso aporta en la capa 2, esta dado por el mayor, en este caso es el modelo 2 con un valor de: 0.78583498 que es significativamente mayor a los demas modelos. Dado por:\n",
    "\n",
    "Valores activacion capa2: [[0.73105858 0.78583498 0.68997448]]"
   ]
  },
  {
   "cell_type": "markdown",
   "metadata": {},
   "source": [
    "## XOR"
   ]
  },
  {
   "cell_type": "markdown",
   "metadata": {},
   "source": [
    "![title](img/MLP3.jpg)"
   ]
  },
  {
   "cell_type": "code",
   "execution_count": 119,
   "metadata": {},
   "outputs": [],
   "source": [
    "def red_neuronal_xor(x1, x2):\n",
    "    \n",
    "    #Pesos de la primera capa a la segunda\n",
    "    Wh = np.array([[20, 20],\n",
    "                   [-20, -20]])\n",
    "    \n",
    "    print(\"Pesos capa 2\\n\", Wh, Wh.shape)\n",
    "    \n",
    "    #Sesgos para capa 2\n",
    "    b = np.array([-10, 30])\n",
    "    \n",
    "    # Valores de entreada X: 1 observacion, 2 variables y sesgo de 1\n",
    "    X = np.array([x1, x2])\n",
    "    print(\"Valores de entrada\\n\", X, X.shape)\n",
    "    \n",
    "    #Valores de la segunda capa\n",
    "    H = np.matmul(X, Wh.T) + b\n",
    "    print(\"Valores capa 2 np.matmul(X, Wh)\\n\", np.matmul(X, Wh.T) +b)\n",
    "    print(\"Valores capa 2\\n\", H, H.shape)\n",
    "    \n",
    "    #Valores con funcion de activacion para la segunda capa\n",
    "    A = sigmoid(H)\n",
    "    print(\"Valores activacion capa 2\\n\", A, A.shape)\n",
    "    \n",
    "    #Pesos de la segunda capa a la tercera\n",
    "    Wy = np.array([20, 20])\n",
    "    print(\"Pesos capa 3\\n\", Wy, Wy.shape)\n",
    "    \n",
    "    #Valores de la segunda capa\n",
    "    y_hat = sigmoid(np.dot(A, Wy) - 30)\n",
    "    print(\"Valores y_hat\\n\", y_hat)\n",
    "    \n",
    "    resultado = int(round(y_hat))\n",
    "           \n",
    "    return resultado, A\n",
    "\n",
    "red_neuronal_xor = np.frompyfunc(red_neuronal_xor, 2, 2)"
   ]
  },
  {
   "cell_type": "code",
   "execution_count": 124,
   "metadata": {},
   "outputs": [
    {
     "name": "stdout",
     "output_type": "stream",
     "text": [
      "Pesos capa 2\n",
      " [[ 20  20]\n",
      " [-20 -20]] (2, 2)\n",
      "Valores de entrada\n",
      " [1 1] (2,)\n",
      "Valores capa 2 np.matmul(X, Wh)\n",
      " [ 30 -10]\n",
      "Valores capa 2\n",
      " [ 30 -10] (2,)\n",
      "Valores activacion capa 2\n",
      " [1.00000000e+00 4.53978687e-05] (2,)\n",
      "Pesos capa 3\n",
      " [20 20] (2,)\n",
      "Valores y_hat\n",
      " 4.543910487654591e-05\n",
      "\n",
      "\n",
      "Resultado:  0\n"
     ]
    }
   ],
   "source": [
    "resultado, _ = red_neuronal_xor(1, 1)\n",
    "print(\"\\n\\nResultado: \", resultado)"
   ]
  },
  {
   "cell_type": "markdown",
   "metadata": {},
   "source": [
    "## Evaluación de plano de X"
   ]
  },
  {
   "cell_type": "code",
   "execution_count": 135,
   "metadata": {},
   "outputs": [
    {
     "data": {
      "image/png": "[encoded data removed]",
      "text/plain": [
       "<Figure size 432x288 with 1 Axes>"
      ]
     },
     "metadata": {
      "needs_background": "light"
     },
     "output_type": "display_data"
    }
   ],
   "source": [
    "val1 = [0,0,1,1]\n",
    "val2 = [0,1,0,1]\n",
    "colors = ['blue','red','red','blue'] #Valores esperados\n",
    "for (i, j, k) in zip(val1, val2, colors):\n",
    "    plt.plot(i, j, 'o', color=k)"
   ]
  },
  {
   "cell_type": "markdown",
   "metadata": {},
   "source": [
    "## Evaluacón de plano de H"
   ]
  },
  {
   "cell_type": "code",
   "execution_count": 130,
   "metadata": {},
   "outputs": [
    {
     "name": "stdout",
     "output_type": "stream",
     "text": [
      "Pesos capa 2\n",
      " [[ 20  20]\n",
      " [-20 -20]] (2, 2)\n",
      "Valores de entrada\n",
      " [0 0] (2,)\n",
      "Valores capa 2 np.matmul(X, Wh)\n",
      " [-10  30]\n",
      "Valores capa 2\n",
      " [-10  30] (2,)\n",
      "Valores activacion capa 2\n",
      " [4.53978687e-05 1.00000000e+00] (2,)\n",
      "Pesos capa 3\n",
      " [20 20] (2,)\n",
      "Valores y_hat\n",
      " 4.543910487654591e-05\n",
      "Pesos capa 2\n",
      " [[ 20  20]\n",
      " [-20 -20]] (2, 2)\n",
      "Valores de entrada\n",
      " [0 1] (2,)\n",
      "Valores capa 2 np.matmul(X, Wh)\n",
      " [10 10]\n",
      "Valores capa 2\n",
      " [10 10] (2,)\n",
      "Valores activacion capa 2\n",
      " [0.9999546 0.9999546] (2,)\n",
      "Pesos capa 3\n",
      " [20 20] (2,)\n",
      "Valores y_hat\n",
      " 0.999954519621495\n",
      "Pesos capa 2\n",
      " [[ 20  20]\n",
      " [-20 -20]] (2, 2)\n",
      "Valores de entrada\n",
      " [1 0] (2,)\n",
      "Valores capa 2 np.matmul(X, Wh)\n",
      " [10 10]\n",
      "Valores capa 2\n",
      " [10 10] (2,)\n",
      "Valores activacion capa 2\n",
      " [0.9999546 0.9999546] (2,)\n",
      "Pesos capa 3\n",
      " [20 20] (2,)\n",
      "Valores y_hat\n",
      " 0.999954519621495\n",
      "Pesos capa 2\n",
      " [[ 20  20]\n",
      " [-20 -20]] (2, 2)\n",
      "Valores de entrada\n",
      " [1 1] (2,)\n",
      "Valores capa 2 np.matmul(X, Wh)\n",
      " [ 30 -10]\n",
      "Valores capa 2\n",
      " [ 30 -10] (2,)\n",
      "Valores activacion capa 2\n",
      " [1.00000000e+00 4.53978687e-05] (2,)\n",
      "Pesos capa 3\n",
      " [20 20] (2,)\n",
      "Valores y_hat\n",
      " 4.543910487654591e-05\n",
      "-----Evaluacion en espacio H------\n"
     ]
    },
    {
     "data": {
      "image/png": "[encoded data removed]",
      "text/plain": [
       "<Figure size 432x288 with 1 Axes>"
      ]
     },
     "metadata": {
      "needs_background": "light"
     },
     "output_type": "display_data"
    }
   ],
   "source": [
    "val1 = [0,0,1,1]\n",
    "val2 = [0,1,0,1]\n",
    "resultado, H = red_neuronal_xor(val1, val2)\n",
    "print(\"-----Evaluacion en espacio H------\")\n",
    "for (i, j) in zip(resultado, H):\n",
    "    if(i == 1):\n",
    "        colorRes = 'red'\n",
    "    else:\n",
    "        colorRes = 'blue'\n",
    "    plt.plot(j[0], j[1], 'o', color=colorRes)"
   ]
  },
  {
   "cell_type": "markdown",
   "metadata": {},
   "source": [
    "**Resultado:** En el espacio intermedio (H) o espacio latente, se puede verificar que dos puntos del espacio original X fueron asignado a un unico punto, con la finalidad de poder simplificar el modelo, y poder crear una unica linea que separa las respuestas de 0 o 1 para el nuevo espacio. "
   ]
  }
 ],
 "metadata": {
  "kernelspec": {
   "display_name": "Python 3",
   "language": "python",
   "name": "python3"
  },
  "language_info": {
   "codemirror_mode": {
    "name": "ipython",
    "version": 3
   },
   "file_extension": ".py",
   "mimetype": "text/x-python",
   "name": "python",
   "nbconvert_exporter": "python",
   "pygments_lexer": "ipython3",
   "version": "3.7.7"
  }
 },
 "nbformat": 4,
 "nbformat_minor": 4
}
