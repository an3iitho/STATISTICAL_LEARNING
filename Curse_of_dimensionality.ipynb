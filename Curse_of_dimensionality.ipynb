{
 "cells": [
  {
   "cell_type": "markdown",
   "metadata": {},
   "source": [
    "# Curse of dimensionality\n",
    "## Alvaro Esquivel 11002822"
   ]
  },
  {
   "cell_type": "code",
   "execution_count": 1,
   "metadata": {},
   "outputs": [],
   "source": [
    "import numpy as np\n",
    "from sklearn.preprocessing import PolynomialFeatures"
   ]
  },
  {
   "cell_type": "code",
   "execution_count": 3,
   "metadata": {},
   "outputs": [
    {
     "name": "stdout",
     "output_type": "stream",
     "text": [
      "[[0 1]\n",
      " [2 3]\n",
      " [4 5]\n",
      " [6 7]\n",
      " [8 9]]\n"
     ]
    },
    {
     "data": {
      "text/plain": [
       "array([[ 1.,  0.,  1.,  0.,  0.,  1.],\n",
       "       [ 1.,  2.,  3.,  4.,  6.,  9.],\n",
       "       [ 1.,  4.,  5., 16., 20., 25.],\n",
       "       [ 1.,  6.,  7., 36., 42., 49.],\n",
       "       [ 1.,  8.,  9., 64., 72., 81.]])"
      ]
     },
     "execution_count": 3,
     "metadata": {},
     "output_type": "execute_result"
    }
   ],
   "source": [
    "X = np.arange(10).reshape(5, 2)\n",
    "print(X)\n",
    "\n",
    "poly = PolynomialFeatures(2)\n",
    "poly.fit_transform(X)"
   ]
  },
  {
   "cell_type": "code",
   "execution_count": 12,
   "metadata": {},
   "outputs": [
    {
     "name": "stdout",
     "output_type": "stream",
     "text": [
      "[[  1.   0.   1.   0.   0.   1.   0.   0.   0.   1.]\n",
      " [  1.   2.   3.   4.   6.   9.   8.  12.  18.  27.]\n",
      " [  1.   4.   5.  16.  20.  25.  64.  80. 100. 125.]\n",
      " [  1.   6.   7.  36.  42.  49. 216. 252. 294. 343.]\n",
      " [  1.   8.   9.  64.  72.  81. 512. 576. 648. 729.]] \n",
      "Dimencionalidad: (5, 10)\n"
     ]
    }
   ],
   "source": [
    "poly = PolynomialFeatures(3)\n",
    "dim_poly = poly.fit_transform(X)\n",
    "print(dim_poly, \"\\nDimencionalidad:\", dim_poly.shape)"
   ]
  },
  {
   "cell_type": "code",
   "execution_count": 11,
   "metadata": {},
   "outputs": [
    {
     "name": "stdout",
     "output_type": "stream",
     "text": [
      "[[1.00000e+00 0.00000e+00 1.00000e+00 0.00000e+00 0.00000e+00 1.00000e+00\n",
      "  0.00000e+00 0.00000e+00 0.00000e+00 1.00000e+00 0.00000e+00 0.00000e+00\n",
      "  0.00000e+00 0.00000e+00 1.00000e+00 0.00000e+00 0.00000e+00 0.00000e+00\n",
      "  0.00000e+00 0.00000e+00 1.00000e+00 0.00000e+00 0.00000e+00 0.00000e+00\n",
      "  0.00000e+00 0.00000e+00 0.00000e+00 1.00000e+00]\n",
      " [1.00000e+00 2.00000e+00 3.00000e+00 4.00000e+00 6.00000e+00 9.00000e+00\n",
      "  8.00000e+00 1.20000e+01 1.80000e+01 2.70000e+01 1.60000e+01 2.40000e+01\n",
      "  3.60000e+01 5.40000e+01 8.10000e+01 3.20000e+01 4.80000e+01 7.20000e+01\n",
      "  1.08000e+02 1.62000e+02 2.43000e+02 6.40000e+01 9.60000e+01 1.44000e+02\n",
      "  2.16000e+02 3.24000e+02 4.86000e+02 7.29000e+02]\n",
      " [1.00000e+00 4.00000e+00 5.00000e+00 1.60000e+01 2.00000e+01 2.50000e+01\n",
      "  6.40000e+01 8.00000e+01 1.00000e+02 1.25000e+02 2.56000e+02 3.20000e+02\n",
      "  4.00000e+02 5.00000e+02 6.25000e+02 1.02400e+03 1.28000e+03 1.60000e+03\n",
      "  2.00000e+03 2.50000e+03 3.12500e+03 4.09600e+03 5.12000e+03 6.40000e+03\n",
      "  8.00000e+03 1.00000e+04 1.25000e+04 1.56250e+04]\n",
      " [1.00000e+00 6.00000e+00 7.00000e+00 3.60000e+01 4.20000e+01 4.90000e+01\n",
      "  2.16000e+02 2.52000e+02 2.94000e+02 3.43000e+02 1.29600e+03 1.51200e+03\n",
      "  1.76400e+03 2.05800e+03 2.40100e+03 7.77600e+03 9.07200e+03 1.05840e+04\n",
      "  1.23480e+04 1.44060e+04 1.68070e+04 4.66560e+04 5.44320e+04 6.35040e+04\n",
      "  7.40880e+04 8.64360e+04 1.00842e+05 1.17649e+05]\n",
      " [1.00000e+00 8.00000e+00 9.00000e+00 6.40000e+01 7.20000e+01 8.10000e+01\n",
      "  5.12000e+02 5.76000e+02 6.48000e+02 7.29000e+02 4.09600e+03 4.60800e+03\n",
      "  5.18400e+03 5.83200e+03 6.56100e+03 3.27680e+04 3.68640e+04 4.14720e+04\n",
      "  4.66560e+04 5.24880e+04 5.90490e+04 2.62144e+05 2.94912e+05 3.31776e+05\n",
      "  3.73248e+05 4.19904e+05 4.72392e+05 5.31441e+05]] \n",
      "Dimencionalidad: (5, 28)\n"
     ]
    }
   ],
   "source": [
    "poly = PolynomialFeatures(6)\n",
    "dim_poly = poly.fit_transform(X)\n",
    "print(dim_poly, \"\\nDimencionalidad:\", dim_poly.shape)"
   ]
  },
  {
   "cell_type": "markdown",
   "metadata": {},
   "source": [
    "## Crecimiento de dimencionalidad utilizando 2 valiables"
   ]
  },
  {
   "cell_type": "code",
   "execution_count": 20,
   "metadata": {},
   "outputs": [
    {
     "name": "stdout",
     "output_type": "stream",
     "text": [
      "Polinomio: 1  Dimencionalidad: (5, 3)\n",
      "Polinomio: 3  Dimencionalidad: (5, 10)\n",
      "Polinomio: 5  Dimencionalidad: (5, 21)\n",
      "Polinomio: 7  Dimencionalidad: (5, 36)\n",
      "Polinomio: 9  Dimencionalidad: (5, 55)\n",
      "Polinomio: 11  Dimencionalidad: (5, 78)\n",
      "Polinomio: 13  Dimencionalidad: (5, 105)\n",
      "Polinomio: 15  Dimencionalidad: (5, 136)\n",
      "Polinomio: 17  Dimencionalidad: (5, 171)\n",
      "Polinomio: 19  Dimencionalidad: (5, 210)\n",
      "Polinomio: 21  Dimencionalidad: (5, 253)\n",
      "Polinomio: 23  Dimencionalidad: (5, 300)\n",
      "Polinomio: 25  Dimencionalidad: (5, 351)\n",
      "Polinomio: 27  Dimencionalidad: (5, 406)\n",
      "Polinomio: 29  Dimencionalidad: (5, 465)\n",
      "Polinomio: 31  Dimencionalidad: (5, 528)\n",
      "Polinomio: 33  Dimencionalidad: (5, 595)\n",
      "Polinomio: 35  Dimencionalidad: (5, 666)\n",
      "Polinomio: 37  Dimencionalidad: (5, 741)\n",
      "Polinomio: 39  Dimencionalidad: (5, 820)\n",
      "Polinomio: 41  Dimencionalidad: (5, 903)\n",
      "Polinomio: 43  Dimencionalidad: (5, 990)\n",
      "Polinomio: 45  Dimencionalidad: (5, 1081)\n",
      "Polinomio: 47  Dimencionalidad: (5, 1176)\n",
      "Polinomio: 49  Dimencionalidad: (5, 1275)\n",
      "Polinomio: 51  Dimencionalidad: (5, 1378)\n",
      "Polinomio: 53  Dimencionalidad: (5, 1485)\n",
      "Polinomio: 55  Dimencionalidad: (5, 1596)\n",
      "Polinomio: 57  Dimencionalidad: (5, 1711)\n",
      "Polinomio: 59  Dimencionalidad: (5, 1830)\n",
      "Polinomio: 61  Dimencionalidad: (5, 1953)\n",
      "Polinomio: 63  Dimencionalidad: (5, 2080)\n",
      "Polinomio: 65  Dimencionalidad: (5, 2211)\n",
      "Polinomio: 67  Dimencionalidad: (5, 2346)\n",
      "Polinomio: 69  Dimencionalidad: (5, 2485)\n",
      "Polinomio: 71  Dimencionalidad: (5, 2628)\n",
      "Polinomio: 73  Dimencionalidad: (5, 2775)\n",
      "Polinomio: 75  Dimencionalidad: (5, 2926)\n",
      "Polinomio: 77  Dimencionalidad: (5, 3081)\n",
      "Polinomio: 79  Dimencionalidad: (5, 3240)\n",
      "Polinomio: 81  Dimencionalidad: (5, 3403)\n",
      "Polinomio: 83  Dimencionalidad: (5, 3570)\n",
      "Polinomio: 85  Dimencionalidad: (5, 3741)\n",
      "Polinomio: 87  Dimencionalidad: (5, 3916)\n",
      "Polinomio: 89  Dimencionalidad: (5, 4095)\n",
      "Polinomio: 91  Dimencionalidad: (5, 4278)\n",
      "Polinomio: 93  Dimencionalidad: (5, 4465)\n",
      "Polinomio: 95  Dimencionalidad: (5, 4656)\n",
      "Polinomio: 97  Dimencionalidad: (5, 4851)\n",
      "Polinomio: 99  Dimencionalidad: (5, 5050)\n"
     ]
    }
   ],
   "source": [
    "for i in range(1, 100, 2):\n",
    "    poly = PolynomialFeatures(i)\n",
    "    dim_poly = poly.fit_transform(X)\n",
    "    print(\"Polinomio:\", i, \" Dimencionalidad:\", dim_poly.shape)"
   ]
  },
  {
   "cell_type": "markdown",
   "metadata": {},
   "source": [
    "## Crecimiento utilizando  4 variables"
   ]
  },
  {
   "cell_type": "code",
   "execution_count": 21,
   "metadata": {},
   "outputs": [
    {
     "name": "stdout",
     "output_type": "stream",
     "text": [
      "[[0 1 2 3]\n",
      " [4 5 6 7]]\n"
     ]
    }
   ],
   "source": [
    "X = np.arange(8).reshape(2, 4)\n",
    "print(X)"
   ]
  },
  {
   "cell_type": "code",
   "execution_count": 22,
   "metadata": {},
   "outputs": [
    {
     "name": "stdout",
     "output_type": "stream",
     "text": [
      "Polinomio: 1  Dimencionalidad: (2, 5)\n",
      "Polinomio: 3  Dimencionalidad: (2, 35)\n",
      "Polinomio: 5  Dimencionalidad: (2, 126)\n",
      "Polinomio: 7  Dimencionalidad: (2, 330)\n",
      "Polinomio: 9  Dimencionalidad: (2, 715)\n",
      "Polinomio: 11  Dimencionalidad: (2, 1365)\n",
      "Polinomio: 13  Dimencionalidad: (2, 2380)\n",
      "Polinomio: 15  Dimencionalidad: (2, 3876)\n",
      "Polinomio: 17  Dimencionalidad: (2, 5985)\n",
      "Polinomio: 19  Dimencionalidad: (2, 8855)\n",
      "Polinomio: 21  Dimencionalidad: (2, 12650)\n",
      "Polinomio: 23  Dimencionalidad: (2, 17550)\n",
      "Polinomio: 25  Dimencionalidad: (2, 23751)\n",
      "Polinomio: 27  Dimencionalidad: (2, 31465)\n",
      "Polinomio: 29  Dimencionalidad: (2, 40920)\n",
      "Polinomio: 31  Dimencionalidad: (2, 52360)\n",
      "Polinomio: 33  Dimencionalidad: (2, 66045)\n",
      "Polinomio: 35  Dimencionalidad: (2, 82251)\n",
      "Polinomio: 37  Dimencionalidad: (2, 101270)\n",
      "Polinomio: 39  Dimencionalidad: (2, 123410)\n",
      "Polinomio: 41  Dimencionalidad: (2, 148995)\n",
      "Polinomio: 43  Dimencionalidad: (2, 178365)\n",
      "Polinomio: 45  Dimencionalidad: (2, 211876)\n",
      "Polinomio: 47  Dimencionalidad: (2, 249900)\n",
      "Polinomio: 49  Dimencionalidad: (2, 292825)\n",
      "Polinomio: 51  Dimencionalidad: (2, 341055)\n",
      "Polinomio: 53  Dimencionalidad: (2, 395010)\n",
      "Polinomio: 55  Dimencionalidad: (2, 455126)\n",
      "Polinomio: 57  Dimencionalidad: (2, 521855)\n",
      "Polinomio: 59  Dimencionalidad: (2, 595665)\n",
      "Polinomio: 61  Dimencionalidad: (2, 677040)\n",
      "Polinomio: 63  Dimencionalidad: (2, 766480)\n",
      "Polinomio: 65  Dimencionalidad: (2, 864501)\n",
      "Polinomio: 67  Dimencionalidad: (2, 971635)\n",
      "Polinomio: 69  Dimencionalidad: (2, 1088430)\n",
      "Polinomio: 71  Dimencionalidad: (2, 1215450)\n",
      "Polinomio: 73  Dimencionalidad: (2, 1353275)\n",
      "Polinomio: 75  Dimencionalidad: (2, 1502501)\n",
      "Polinomio: 77  Dimencionalidad: (2, 1663740)\n",
      "Polinomio: 79  Dimencionalidad: (2, 1837620)\n",
      "Polinomio: 81  Dimencionalidad: (2, 2024785)\n",
      "Polinomio: 83  Dimencionalidad: (2, 2225895)\n",
      "Polinomio: 85  Dimencionalidad: (2, 2441626)\n",
      "Polinomio: 87  Dimencionalidad: (2, 2672670)\n",
      "Polinomio: 89  Dimencionalidad: (2, 2919735)\n",
      "Polinomio: 91  Dimencionalidad: (2, 3183545)\n",
      "Polinomio: 93  Dimencionalidad: (2, 3464840)\n",
      "Polinomio: 95  Dimencionalidad: (2, 3764376)\n",
      "Polinomio: 97  Dimencionalidad: (2, 4082925)\n",
      "Polinomio: 99  Dimencionalidad: (2, 4421275)\n"
     ]
    }
   ],
   "source": [
    "for i in range(1, 100, 2):\n",
    "    poly = PolynomialFeatures(i)\n",
    "    dim_poly = poly.fit_transform(X)\n",
    "    print(\"Polinomio:\", i, \" Dimencionalidad:\", dim_poly.shape)"
   ]
  },
  {
   "cell_type": "markdown",
   "metadata": {},
   "source": [
    "## Utilizando 8 variables"
   ]
  },
  {
   "cell_type": "code",
   "execution_count": 23,
   "metadata": {},
   "outputs": [
    {
     "name": "stdout",
     "output_type": "stream",
     "text": [
      "[[ 0  1  2  3  4  5  6  7]\n",
      " [ 8  9 10 11 12 13 14 15]]\n"
     ]
    }
   ],
   "source": [
    "X = np.arange(16).reshape(2, 8)\n",
    "print(X)"
   ]
  },
  {
   "cell_type": "code",
   "execution_count": 25,
   "metadata": {},
   "outputs": [
    {
     "name": "stdout",
     "output_type": "stream",
     "text": [
      "Polinomio: 1  Dimencionalidad: (2, 9)\n",
      "Polinomio: 3  Dimencionalidad: (2, 165)\n",
      "Polinomio: 5  Dimencionalidad: (2, 1287)\n",
      "Polinomio: 7  Dimencionalidad: (2, 6435)\n",
      "Polinomio: 9  Dimencionalidad: (2, 24310)\n",
      "Polinomio: 11  Dimencionalidad: (2, 75582)\n",
      "Polinomio: 13  Dimencionalidad: (2, 203490)\n",
      "Polinomio: 15  Dimencionalidad: (2, 490314)\n",
      "Polinomio: 17  Dimencionalidad: (2, 1081575)\n",
      "Polinomio: 19  Dimencionalidad: (2, 2220075)\n",
      "Polinomio: 21  Dimencionalidad: (2, 4292145)\n",
      "Polinomio: 23  Dimencionalidad: (2, 7888725)\n",
      "Polinomio: 25  Dimencionalidad: (2, 13884156)\n",
      "Polinomio: 27  Dimencionalidad: (2, 23535820)\n",
      "Polinomio: 29  Dimencionalidad: (2, 38608020)\n",
      "Polinomio: 31  Dimencionalidad: (2, 61523748)\n",
      "Polinomio: 33  Dimencionalidad: (2, 95548245)\n",
      "Polinomio: 35  Dimencionalidad: (2, 145008513)\n",
      "Polinomio: 37  Dimencionalidad: (2, 215553195)\n",
      "Polinomio: 39  Dimencionalidad: (2, 314457495)\n",
      "Polinomio: 41  Dimencionalidad: (2, 450978066)\n",
      "Polinomio: 43  Dimencionalidad: (2, 636763050)\n",
      "Polinomio: 45  Dimencionalidad: (2, 886322710)\n"
     ]
    }
   ],
   "source": [
    "for i in range(1, 46, 2):\n",
    "    poly = PolynomialFeatures(i)\n",
    "    dim_poly = poly.fit_transform(X)\n",
    "    print(\"Polinomio:\", i, \" Dimencionalidad:\", dim_poly.shape)"
   ]
  }
 ],
 "metadata": {
  "kernelspec": {
   "display_name": "Python 3",
   "language": "python",
   "name": "python3"
  },
  "language_info": {
   "codemirror_mode": {
    "name": "ipython",
    "version": 3
   },
   "file_extension": ".py",
   "mimetype": "text/x-python",
   "name": "python",
   "nbconvert_exporter": "python",
   "pygments_lexer": "ipython3",
   "version": "3.7.7"
  }
 },
 "nbformat": 4,
 "nbformat_minor": 4
}
